{
  "nbformat": 4,
  "nbformat_minor": 0,
  "metadata": {
    "colab": {
      "provenance": [],
      "authorship_tag": "ABX9TyMedoJVIAaIvp2kozjnsc9Y",
      "include_colab_link": true
    },
    "kernelspec": {
      "name": "python3",
      "display_name": "Python 3"
    },
    "language_info": {
      "name": "python"
    }
  },
  "cells": [
    {
      "cell_type": "markdown",
      "metadata": {
        "id": "view-in-github",
        "colab_type": "text"
      },
      "source": [
        "<a href=\"https://colab.research.google.com/github/AliceLavinia/API-GITHUB/blob/main/testeeee.ipynb\" target=\"_parent\"><img src=\"https://colab.research.google.com/assets/colab-badge.svg\" alt=\"Open In Colab\"/></a>"
      ]
    },
    {
      "cell_type": "code",
      "execution_count": null,
      "metadata": {
        "colab": {
          "base_uri": "https://localhost:8080/"
        },
        "id": "-lxUmFCUyebX",
        "outputId": "e5764895-eef8-4efb-b4b1-ae2de1bf2a37"
      },
      "outputs": [
        {
          "output_type": "stream",
          "name": "stdout",
          "text": [
            "O segundo numero 10 é maior que o primeiro numero 8\n"
          ]
        }
      ],
      "source": [
        "n1 = 8\n",
        "n2 = 10\n",
        "\n",
        "if n1>n2 :\n",
        "  print(f'O primeiro numero {n1} é maior que o segundo numero {n2}')\n",
        "else:\n",
        "  print(f'O segundo numero {n2} é maior que o primeiro numero {n1}')"
      ]
    },
    {
      "cell_type": "code",
      "source": [
        "n = int(input('Digite um numero:'))\n",
        "\n",
        "if n > 0:\n",
        "  print('O numero é positivo')\n",
        "elif n <0:\n",
        "  print('O numero é negativo')\n",
        "else:\n",
        "  print('Invalido')"
      ],
      "metadata": {
        "colab": {
          "base_uri": "https://localhost:8080/"
        },
        "id": "awThEouI8vcs",
        "outputId": "aa8decc9-027b-4430-e35e-f248d88a0924"
      },
      "execution_count": null,
      "outputs": [
        {
          "output_type": "stream",
          "name": "stdout",
          "text": [
            "Digite um numero:2\n",
            "O numero é positivo\n"
          ]
        }
      ]
    },
    {
      "cell_type": "code",
      "source": [
        "sexo = input('Digite seu sexo correspondente: ')\n",
        "\n",
        "if sexo == 'M' :\n",
        "  print('Masculino')\n",
        "elif sexo == 'F' :\n",
        "  print('Feminino')\n",
        "else :\n",
        "  print('Sexo Inválido')"
      ],
      "metadata": {
        "colab": {
          "base_uri": "https://localhost:8080/"
        },
        "id": "B091G8KT92Ok",
        "outputId": "f44b543e-e226-4d67-e031-73821861505c"
      },
      "execution_count": null,
      "outputs": [
        {
          "output_type": "stream",
          "name": "stdout",
          "text": [
            "Digite seu sexo correspondente: F\n",
            "Feminino\n"
          ]
        }
      ]
    },
    {
      "cell_type": "code",
      "source": [
        "letra = input('Digite uma letra: ')\n",
        "\n",
        "if letra =='A' or letra =='E' or letra =='I' or letra =='O' or letra =='U':\n",
        "  print('Vogal')\n",
        "else:\n",
        "  print('Consoante')"
      ],
      "metadata": {
        "colab": {
          "base_uri": "https://localhost:8080/"
        },
        "id": "YOUfTrq4_O8Z",
        "outputId": "623a9376-1903-43a2-e6bd-589c55c6a9bc"
      },
      "execution_count": null,
      "outputs": [
        {
          "output_type": "stream",
          "name": "stdout",
          "text": [
            "Digite uma letra: A\n",
            "Vogal\n"
          ]
        }
      ]
    },
    {
      "cell_type": "code",
      "source": [
        "n1 = float(input('Digite sua nota: '))\n",
        "n2 = float(input('Digite sua segunda nota: '))\n",
        "n3 = float(input('Digite sua terceira nota: '))\n",
        "n4 = float(input('Digite sua quarta nota: '))\n",
        "\n",
        "media = (n1+n2+n3+n4)/4\n",
        "print(f' A sua Média é igual a {media:.2f}')\n",
        "\n",
        "if media == 10 :\n",
        "  print('Aprovado com distinção')\n",
        "elif media >=7:\n",
        "  print('Aprovado')\n",
        "else:\n",
        "  print('Reprovado')"
      ],
      "metadata": {
        "colab": {
          "base_uri": "https://localhost:8080/"
        },
        "id": "ljHYOIpZ_omN",
        "outputId": "6a3f63e4-4c72-47d0-b1da-519fc7b87781"
      },
      "execution_count": null,
      "outputs": [
        {
          "output_type": "stream",
          "name": "stdout",
          "text": [
            "Digite sua nota: 2.5\n",
            "Digite sua segunda nota: 3.4\n",
            "Digite sua terceira nota: 5.0\n",
            "Digite sua quarta nota: 6.8\n",
            " A sua Média é igual a 4.42\n"
          ]
        }
      ]
    },
    {
      "cell_type": "code",
      "source": [
        "n1 = int(input('Digite um numero: '))\n",
        "n2 = int(input('Digite outro numero: '))\n",
        "n3 = int(input('Digite outro numero: '))\n",
        "\n",
        "if n1>n2 and n1>n3:\n",
        "  print('o primeiro numero é maior')\n",
        "elif n2>n1 and n2>n3:\n",
        "  print('O segundo numero é maior')\n",
        "else:\n",
        "  print('O terceiro numero é maior')"
      ],
      "metadata": {
        "id": "uHkGvHhwBt1C"
      },
      "execution_count": null,
      "outputs": []
    },
    {
      "cell_type": "code",
      "source": [
        "nome = 'Alice'\n",
        "idade = 22\n",
        "altura = 1.55\n",
        "\n",
        "print(nome)\n",
        "print(idade)\n",
        "print(altura)"
      ],
      "metadata": {
        "colab": {
          "base_uri": "https://localhost:8080/"
        },
        "id": "GDpC4TmrDwdO",
        "outputId": "30f2e981-7460-4f2b-a020-380a16a5a7e6"
      },
      "execution_count": null,
      "outputs": [
        {
          "output_type": "stream",
          "name": "stdout",
          "text": [
            "Alice\n",
            "22\n",
            "1.55\n"
          ]
        }
      ]
    },
    {
      "cell_type": "code",
      "source": [
        "n1 = int(input('Digite um numero: '))\n",
        "n2 = int(input('Digite outro numero: '))\n",
        "n3 = int(input('Digite outro numero: '))\n",
        "\n",
        "if n1<n2 and n1<n3:\n",
        "  print('o primeiro numero é menor')\n",
        "elif n2<n1 and n2<n3:\n",
        "  print('O segundo numero é menor')\n",
        "else:\n",
        "  print('O terceiro numero é menor')"
      ],
      "metadata": {
        "colab": {
          "base_uri": "https://localhost:8080/"
        },
        "id": "ADhBK71tEqkl",
        "outputId": "8cdb212f-b979-4c48-d093-2816b4e22ddc"
      },
      "execution_count": null,
      "outputs": [
        {
          "output_type": "stream",
          "name": "stdout",
          "text": [
            "Digite um numero: 2\n",
            "Digite outro numero: 3\n",
            "Digite outro numero: 4\n",
            "o primeiro numero é menor\n"
          ]
        }
      ]
    },
    {
      "cell_type": "code",
      "source": [
        "p1 = float(input('Digite o preço do primeiro produto: '))\n",
        "p2 = float(input('Digite o preço do segundo produto: '))\n",
        "p3 = float(input('Digite o preço do terceiro produto: '))\n",
        "\n",
        "if p1<p2 and p1<p3:\n",
        "  print('O primeiro produto é mais barato')\n",
        "elif p2<p1 and p2<p3:\n",
        "  print('O segundo produto é mais barato')\n",
        "else:\n",
        "  print('O terceiro produto é mais barato')"
      ],
      "metadata": {
        "id": "UcrsuKYGE9nF"
      },
      "execution_count": null,
      "outputs": []
    },
    {
      "cell_type": "code",
      "source": [
        "# Leitura dos números\n",
        "n1 = float(input(\"Digite o primeiro número: \"))\n",
        "n2 = float(input(\"Digite o segundo número: \"))\n",
        "n3 = float(input(\"Digite o terceiro número: \"))\n",
        "\n",
        "# Determinando maior e menor\n",
        "maior = max(n1, n2, n3)\n",
        "menor = min(n1, n2, n3)\n",
        "\n",
        "# Exibindo resultados\n",
        "print(f\"O maior número é: {maior}\")\n",
        "print(f\"O menor número é: {menor}\")\n"
      ],
      "metadata": {
        "id": "pThqRqsQE9mE"
      },
      "execution_count": null,
      "outputs": []
    },
    {
      "cell_type": "code",
      "source": [
        "turno = input('Digite o turno que você estuda: ')\n",
        "\n",
        "if turno == 'M':\n",
        "  print('Bom dia!')\n",
        "elif turno == 'V':\n",
        "  print('Boa Tarde!')\n",
        "elif turno == 'N':\n",
        "  print('Boa noite!')\n",
        "else:\n",
        "  print('Valor Inválido!')"
      ],
      "metadata": {
        "colab": {
          "base_uri": "https://localhost:8080/"
        },
        "id": "sZXmRu48KE1i",
        "outputId": "e8d5c302-ef73-42d4-9b1c-25bf357a67ea"
      },
      "execution_count": null,
      "outputs": [
        {
          "output_type": "stream",
          "name": "stdout",
          "text": [
            "Digite o turno que você estuda: 1\n",
            "Valor Inválido!\n"
          ]
        }
      ]
    },
    {
      "cell_type": "code",
      "source": [
        "# Leitura dos números\n",
        "n1 = float(input(\"Digite o primeiro número: \"))\n",
        "n2 = float(input(\"Digite o segundo número: \"))\n",
        "n3 = float(input(\"Digite o terceiro número: \"))\n",
        "\n",
        "# Comparações para ordem decrescente\n",
        "if n1 >= n2 and n1 >= n3:\n",
        "    if n2 >= n3:\n",
        "        print(n1, n2, n3)\n",
        "    else:\n",
        "        print(n1, n3, n2)\n",
        "elif n2 >= n1 and n2 >= n3:\n",
        "    if n1 >= n3:\n",
        "        print(n2, n1, n3)\n",
        "    else:\n",
        "        print(n2, n3, n1)\n",
        "else:\n",
        "    if n1 >= n2:\n",
        "        print(n3, n1, n2)\n",
        "    else:\n",
        "        print(n3, n2, n1)\n"
      ],
      "metadata": {
        "id": "TyWbMJZwK5Oz"
      },
      "execution_count": null,
      "outputs": []
    },
    {
      "cell_type": "code",
      "source": [
        "maca = int(input('Digite a quantidade de maçãs vendidas: '))\n",
        "banana = int(input('Digite a quantidade de bananas vendidas: '))\n",
        "\n",
        "if maca > banana :\n",
        "  print('As Maçãs são as mais vendidas')\n",
        "elif banana > maca :\n",
        "  print('As banana são as mais vendidas')\n",
        "else:\n",
        "  print('As duas foram vendidas igualmente')"
      ],
      "metadata": {
        "colab": {
          "base_uri": "https://localhost:8080/"
        },
        "id": "6I99Y-oFLS6p",
        "outputId": "0e914562-fc8a-4fda-b87f-a7845ea3c06d"
      },
      "execution_count": null,
      "outputs": [
        {
          "output_type": "stream",
          "name": "stdout",
          "text": [
            "Digite a quantidade de maçãs vendidas: 12\n",
            "Digite a quantidade de bananas vendidas: 3\n",
            "As Maçãs são as mais vendidas\n"
          ]
        }
      ]
    },
    {
      "cell_type": "code",
      "source": [
        "A = int(input('Digite um numero: '))\n",
        "B = int(input('Digite outro numero: '))\n",
        "C = int(input('Digite outro numero: '))\n",
        "\n",
        "if A < 0 or B < 0 or C < 0 :\n",
        "  print('Erro: Os dias não podem ser negativos')\n",
        "else:\n",
        "  Total = A + B + C\n",
        "  print(f'A soma é igual a {Total}')"
      ],
      "metadata": {
        "colab": {
          "base_uri": "https://localhost:8080/"
        },
        "id": "4oGHkrfGM2Lw",
        "outputId": "b8530673-2fbc-4932-d384-34d372d16e27"
      },
      "execution_count": null,
      "outputs": [
        {
          "output_type": "stream",
          "name": "stdout",
          "text": [
            "Digite um numero: -2\n",
            "Digite outro numero: 3\n",
            "Digite outro numero: 4\n",
            "Erro: Os dias não podem ser negativos\n"
          ]
        }
      ]
    },
    {
      "cell_type": "code",
      "source": [
        "temperatura_atual = float(input('Digite a temperatura em celsius: '))\n",
        "\n",
        "if temperatura_atual == 25:\n",
        "  print('A temperatura está correta')\n",
        "else:\n",
        "  print('Alerta!')"
      ],
      "metadata": {
        "id": "eLAmv6zxOwHe"
      },
      "execution_count": null,
      "outputs": []
    },
    {
      "cell_type": "code",
      "source": [
        "peso = float(input('Digite o peso: '))\n",
        "altura = float(input('Digite a altura: '))\n",
        "\n",
        "IMC = peso/(altura**2)\n",
        "\n",
        "if IMC < 18.5:\n",
        "  print('Abaixo do peso')\n",
        "elif IMC >= 18.5 and IMC <25:\n",
        "  print('Peso normal')\n",
        "else:\n",
        "  print('Acima do peso')"
      ],
      "metadata": {
        "colab": {
          "base_uri": "https://localhost:8080/"
        },
        "id": "UBwG-a09Qqlh",
        "outputId": "19b198ac-c993-4ba9-9fe0-ec50c1cb7560"
      },
      "execution_count": null,
      "outputs": [
        {
          "output_type": "stream",
          "name": "stdout",
          "text": [
            "Digite o peso: 15.3\n",
            "Digite a altura: 1.55\n",
            "Abaixo do peso\n"
          ]
        }
      ]
    },
    {
      "cell_type": "code",
      "source": [
        "despesas = float(input('Digite o total de despesas desse mês: '))\n",
        "limite = 3000\n",
        "\n",
        "if despesas > limite :\n",
        "  print('Atenção!Você ultrapassou o limite do orçamento!')\n",
        "else:\n",
        "  print('Está tudo ok')"
      ],
      "metadata": {
        "colab": {
          "base_uri": "https://localhost:8080/"
        },
        "id": "qtBax7UqSFVF",
        "outputId": "25b4efbd-2d07-4363-8dea-15d7e4f2e592"
      },
      "execution_count": null,
      "outputs": [
        {
          "output_type": "stream",
          "name": "stdout",
          "text": [
            "Digite o total de despesas desse mês: 4000\n",
            "Atenção!Você ultrapassou o limite do orçamento!\n"
          ]
        }
      ]
    },
    {
      "cell_type": "code",
      "source": [
        "horas = int(input('Digite a hora atual (formato 24H): '))\n",
        "\n",
        "if horas >=8 and horas <=18:\n",
        "  print('Acesso permitido')\n",
        "else:\n",
        "  print('Acesso Negado')"
      ],
      "metadata": {
        "colab": {
          "base_uri": "https://localhost:8080/"
        },
        "id": "KnIKwHSsTAvL",
        "outputId": "9118086f-e53a-4a85-ca26-c23c19278e23"
      },
      "execution_count": null,
      "outputs": [
        {
          "output_type": "stream",
          "name": "stdout",
          "text": [
            "Digite a hora atual (formato 24H): 10\n",
            "Acesso permitido\n"
          ]
        }
      ]
    },
    {
      "cell_type": "code",
      "source": [
        "n1 = float(input('Digite a primeira nota: '))\n",
        "n2 = float(input('Digite a segunda nota: '))\n",
        "n3 = float(input('Digite a terceira nota:'))\n",
        "\n",
        "media = (n1+n2+n3)/3\n",
        "\n",
        "if media >= 7:\n",
        "  print(media)\n",
        "  print('Aprovado')\n",
        "elif 5 <= media < 7:\n",
        "  print(media)\n",
        "  print('Recuperação')\n",
        "else:\n",
        "  print(media)\n",
        "  print('Reprovado')"
      ],
      "metadata": {
        "id": "rJHE8CkzUcsr"
      },
      "execution_count": null,
      "outputs": []
    },
    {
      "cell_type": "code",
      "source": [
        "distancia = float(input('Digite a distancia percorrida (em km): '))\n",
        "\n",
        "if distancia <= 100:\n",
        "  print('Pagará 10,00')\n",
        "elif 100 < distancia <= 200:\n",
        "  print('Pagara 20,00')"
      ],
      "metadata": {
        "id": "Q-ZMgHUeWMPf"
      },
      "execution_count": null,
      "outputs": []
    },
    {
      "cell_type": "code",
      "source": [
        "n = int(input('Digite um numero inteiro:  '))\n",
        "\n",
        "if n % 2 == 0:\n",
        "  print('O número é par')\n",
        "else:\n",
        "  print('O número é ímpar')"
      ],
      "metadata": {
        "colab": {
          "base_uri": "https://localhost:8080/"
        },
        "id": "R-0LquLf2GXg",
        "outputId": "f856fabc-9fa1-46d2-bc5e-67dbcfa961c9"
      },
      "execution_count": 2,
      "outputs": [
        {
          "output_type": "stream",
          "name": "stdout",
          "text": [
            "Digite um numero inteiro:  1\n",
            "O número é ímpar\n"
          ]
        }
      ]
    },
    {
      "cell_type": "code",
      "source": [
        "renda = float(input(\"Digite o valor da sua renda mensal: \"))\n",
        "parcela = float(input(\"Digite o valor da parcela desejada: \"))\n",
        "\n",
        "if renda > 2000 and parcela <= 0.3 * renda:\n",
        "    print(\"Empréstimo aprovado!\")\n",
        "elif renda <= 2000:\n",
        "    print(\"Empréstimo negado: renda insuficiente.\")\n",
        "else:\n",
        "    print(\"Empréstimo negado: parcela acima de 30% da renda.\")"
      ],
      "metadata": {
        "colab": {
          "base_uri": "https://localhost:8080/"
        },
        "id": "XZMxVlso2r1k",
        "outputId": "62d33d6b-9dba-4394-dccb-91f675f7ed53"
      },
      "execution_count": 3,
      "outputs": [
        {
          "output_type": "stream",
          "name": "stdout",
          "text": [
            "Digite o valor da sua renda mensal: 200\n",
            "Digite o valor da parcela desejada: 400\n",
            "Empréstimo negado: renda insuficiente.\n"
          ]
        }
      ]
    }
  ]
}
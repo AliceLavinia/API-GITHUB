      "cell_type": "code",
      "source": [
        "letra = input('Digite uma letra: ')\n",
        "\n",
        "if letra =='A' or letra =='E' or letra =='I' or letra =='O' or letra =='U':\n",
        "  print('Vogal')\n",
        "else:\n",
        "  print('Consoante')"
      ],
      "metadata": {
        "colab": {
          "base_uri": "https://localhost:8080/"
        },
        "id": "YOUfTrq4_O8Z",
        "outputId": "623a9376-1903-43a2-e6bd-589c55c6a9bc"
      },
      "execution_count": null,
      "outputs": [
        {
          "output_type": "stream",
          "name": "stdout",
          "text": [
            "Digite uma letra: A\n",
            "Vogal\n"
          ]
        }
      ]
    },
    {
      "cell_type": "code",
      "source": [
        "n1 = float(input('Digite sua nota: '))\n",
        "n2 = float(input('Digite sua segunda nota: '))\n",
        "n3 = float(input('Digite sua terceira nota: '))\n",
        "n4 = float(input('Digite sua quarta nota: '))\n",
        "\n",
        "media = (n1+n2+n3+n4)/4\n",
        "print(f' A sua Média é igual a {media:.2f}')\n",
        "\n",
        "if media == 10 :\n",
        "  print('Aprovado com distinção')\n",
        "elif media >=7:\n",
        "  print('Aprovado')\n",
        "else:\n",
        "  print('Reprovado')"
      ],
      "metadata": {
        "colab": {
          "base_uri": "https://localhost:8080/"
        },
        "id": "ljHYOIpZ_omN",
        "outputId": "6a3f63e4-4c72-47d0-b1da-519fc7b87781"
      },
      "execution_count": null,
      "outputs": [
        {
          "output_type": "stream",
          "name": "stdout",
          "text": [
            "Digite sua nota: 2.5\n",
            "Digite sua segunda nota: 3.4\n",
            "Digite sua terceira nota: 5.0\n",
            "Digite sua quarta nota: 6.8\n",
            " A sua Média é igual a 4.42\n"
          ]
        }
      ]
    },
    {
      "cell_type": "code",
      "source": [
        "n1 = int(input('Digite um numero: '))\n",
        "n2 = int(input('Digite outro numero: '))\n",
        "n3 = int(input('Digite outro numero: '))\n",
        "\n",
        "if n1>n2 and n1>n3:\n",
        "  print('o primeiro numero é maior')\n",
        "elif n2>n1 and n2>n3:\n",
        "  print('O segundo numero é maior')\n",
        "else:\n",
        "  print('O terceiro numero é maior')"
      ],
      "metadata": {
        "id": "uHkGvHhwBt1C"
      },
      "execution_count": null,
      "outputs": []
    },
    {
      "cell_type": "code",
      "source": [
        "nome = 'Alice'\n",
        "idade = 22\n",
        "altura = 1.55\n",
        "\n",
        "print(nome)\n",
        "print(idade)\n",
        "print(altura)"
      ],
      "metadata": {
        "colab": {
          "base_uri": "https://localhost:8080/"
        },
        "id": "GDpC4TmrDwdO",
        "outputId": "30f2e981-7460-4f2b-a020-380a16a5a7e6"
      },
      "execution_count": null,
      "outputs": [
        {
          "output_type": "stream",
          "name": "stdout",
          "text": [
            "Alice\n",
            "22\n",
            "1.55\n"
